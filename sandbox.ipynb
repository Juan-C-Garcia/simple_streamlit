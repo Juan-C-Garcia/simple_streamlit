{
 "cells": [
  {
   "cell_type": "markdown",
   "id": "936ac689-58ff-410c-9dc8-5c05b6917aec",
   "metadata": {},
   "source": [
    "# Simple Streamlit App"
   ]
  },
  {
   "cell_type": "code",
   "execution_count": 1,
   "id": "06e004c5-531a-42e6-acf3-66b28e2a3271",
   "metadata": {
    "tags": []
   },
   "outputs": [],
   "source": [
    "import pandas as pd\n",
    "import os\n",
    "from dotenv import load_dotenv\n",
    "\n",
    "from utils.b2 import B2"
   ]
  },
  {
   "cell_type": "code",
   "execution_count": 2,
   "id": "c3dffbc6-7126-4845-9ae3-bffe07c0c89b",
   "metadata": {
    "tags": []
   },
   "outputs": [
    {
     "data": {
      "text/plain": [
       "True"
      ]
     },
     "execution_count": 2,
     "metadata": {},
     "output_type": "execute_result"
    }
   ],
   "source": [
    "load_dotenv()"
   ]
  },
  {
   "cell_type": "markdown",
   "id": "739dd392-870d-43af-869d-d5c6d01e8f81",
   "metadata": {
    "tags": []
   },
   "source": [
    "## Accessing B2\n",
    "\n",
    "For more information on the code behind the helper functions in `utils.b2`, take a look at the [Backblaze API documentation](https://www.backblaze.com/b2/docs/python.html)."
   ]
  },
  {
   "cell_type": "code",
   "execution_count": 3,
   "id": "d6f6e139-a677-406c-a0d7-231349ad09f3",
   "metadata": {
    "tags": []
   },
   "outputs": [
    {
     "data": {
      "text/plain": [
       "'simple-streamlit-app'"
      ]
     },
     "execution_count": 3,
     "metadata": {},
     "output_type": "execute_result"
    }
   ],
   "source": [
    "os.environ['B2_KEYNAME']"
   ]
  },
  {
   "cell_type": "code",
   "execution_count": 4,
   "id": "b1717b48-4aef-4b0f-9d43-0903cb7c0134",
   "metadata": {
    "tags": []
   },
   "outputs": [],
   "source": [
    "b2 = B2(endpoint=os.environ['B2_ENDPOINT'],\n",
    "        key_id=os.environ['B2_KEYID'],\n",
    "        secret_key=os.environ['B2_APPKEY'])"
   ]
  },
  {
   "cell_type": "markdown",
   "id": "9c6ba65e-7592-4c76-a791-864692f113bc",
   "metadata": {},
   "source": [
    "### Set Bucket"
   ]
  },
  {
   "cell_type": "code",
   "execution_count": 7,
   "id": "4fa9307a-bc3f-4790-a428-da2eb4ff930f",
   "metadata": {
    "tags": []
   },
   "outputs": [],
   "source": [
    "# set connection to the correct bucket\n",
    "b2.set_bucket(os.environ['B2_BUCKETNAME'])"
   ]
  },
  {
   "cell_type": "code",
   "execution_count": 9,
   "id": "9db8dd7c-96ca-4215-bf0d-09442675c108",
   "metadata": {
    "tags": []
   },
   "outputs": [
    {
     "data": {
      "text/plain": [
       "['seattle_home_prices.csv']"
      ]
     },
     "execution_count": 9,
     "metadata": {},
     "output_type": "execute_result"
    }
   ],
   "source": [
    "[f.key for f in b2.bucket.objects.all()]"
   ]
  },
  {
   "cell_type": "markdown",
   "id": "19e19576-aa79-4160-992c-17b19e088646",
   "metadata": {},
   "source": [
    "### Upload Data"
   ]
  },
  {
   "cell_type": "code",
   "execution_count": 11,
   "id": "e0dfdfb4-55a2-4a47-b6ac-9069e7e0c465",
   "metadata": {
    "tags": []
   },
   "outputs": [],
   "source": [
    "local_path = './data/seattle_home_prices.csv'\n",
    "remote_path = 'seattle_home_prices.csv'     # this could also be a folder"
   ]
  },
  {
   "cell_type": "code",
   "execution_count": 10,
   "id": "d0e6dd2c-7d22-4a89-add3-eaed0aa0f5d3",
   "metadata": {
    "tags": []
   },
   "outputs": [],
   "source": [
    "# \"overwrite\" file, or upload a new one\n",
    "# b2.to_b2(local_path, remote_path)"
   ]
  },
  {
   "cell_type": "markdown",
   "id": "bece2156-08b7-42f3-8e62-0cdd456307c1",
   "metadata": {},
   "source": [
    "### Download Data to pandas"
   ]
  },
  {
   "cell_type": "code",
   "execution_count": 35,
   "id": "94374fdd-347f-4d83-8a57-e3318dad2221",
   "metadata": {
    "tags": []
   },
   "outputs": [],
   "source": [
    "df_prices = b2.to_df(remote_path)"
   ]
  },
  {
   "cell_type": "markdown",
   "id": "cf633561-a37e-4ff2-bcd5-8f5c2a023357",
   "metadata": {},
   "source": [
    "## Training Model"
   ]
  },
  {
   "cell_type": "code",
   "execution_count": 23,
   "id": "d716b473-e146-49b2-b59d-40edb579c477",
   "metadata": {
    "tags": []
   },
   "outputs": [],
   "source": [
    "from sklearn.linear_model import LinearRegression\n",
    "# from sklearn.model_selection import train_test_split"
   ]
  },
  {
   "cell_type": "code",
   "execution_count": 37,
   "id": "46ecc519-ec96-4405-a72c-686e50c8f3f7",
   "metadata": {
    "tags": []
   },
   "outputs": [],
   "source": [
    "# VERY basic data cleaning\n",
    "features = ['SQUARE FEET', 'BEDS']\n",
    "target = 'PRICE'\n",
    "\n",
    "df_prices = df_prices[features + [target]]\n",
    "df_prices.dropna(inplace=True)"
   ]
  },
  {
   "cell_type": "code",
   "execution_count": 38,
   "id": "c51c3ff7-f5bc-421b-bdc5-81cde526ab78",
   "metadata": {
    "tags": []
   },
   "outputs": [
    {
     "data": {
      "text/html": [
       "<div>\n",
       "<style scoped>\n",
       "    .dataframe tbody tr th:only-of-type {\n",
       "        vertical-align: middle;\n",
       "    }\n",
       "\n",
       "    .dataframe tbody tr th {\n",
       "        vertical-align: top;\n",
       "    }\n",
       "\n",
       "    .dataframe thead th {\n",
       "        text-align: right;\n",
       "    }\n",
       "</style>\n",
       "<table border=\"1\" class=\"dataframe\">\n",
       "  <thead>\n",
       "    <tr style=\"text-align: right;\">\n",
       "      <th></th>\n",
       "      <th>SQUARE FEET</th>\n",
       "      <th>BEDS</th>\n",
       "      <th>LATITUDE</th>\n",
       "      <th>LONGITUDE</th>\n",
       "      <th>PRICE</th>\n",
       "    </tr>\n",
       "  </thead>\n",
       "  <tbody>\n",
       "    <tr>\n",
       "      <th>0</th>\n",
       "      <td>760.0</td>\n",
       "      <td>2</td>\n",
       "      <td>47.631632</td>\n",
       "      <td>-122.347049</td>\n",
       "      <td>459000</td>\n",
       "    </tr>\n",
       "    <tr>\n",
       "      <th>1</th>\n",
       "      <td>1170.0</td>\n",
       "      <td>3</td>\n",
       "      <td>47.667321</td>\n",
       "      <td>-122.323260</td>\n",
       "      <td>648000</td>\n",
       "    </tr>\n",
       "    <tr>\n",
       "      <th>2</th>\n",
       "      <td>1510.0</td>\n",
       "      <td>3</td>\n",
       "      <td>47.504199</td>\n",
       "      <td>-122.360753</td>\n",
       "      <td>440000</td>\n",
       "    </tr>\n",
       "    <tr>\n",
       "      <th>3</th>\n",
       "      <td>1820.0</td>\n",
       "      <td>3</td>\n",
       "      <td>47.679050</td>\n",
       "      <td>-122.301420</td>\n",
       "      <td>715000</td>\n",
       "    </tr>\n",
       "    <tr>\n",
       "      <th>4</th>\n",
       "      <td>1013.0</td>\n",
       "      <td>1</td>\n",
       "      <td>47.622291</td>\n",
       "      <td>-122.339972</td>\n",
       "      <td>749900</td>\n",
       "    </tr>\n",
       "  </tbody>\n",
       "</table>\n",
       "</div>"
      ],
      "text/plain": [
       "   SQUARE FEET  BEDS   LATITUDE   LONGITUDE   PRICE\n",
       "0        760.0     2  47.631632 -122.347049  459000\n",
       "1       1170.0     3  47.667321 -122.323260  648000\n",
       "2       1510.0     3  47.504199 -122.360753  440000\n",
       "3       1820.0     3  47.679050 -122.301420  715000\n",
       "4       1013.0     1  47.622291 -122.339972  749900"
      ]
     },
     "execution_count": 38,
     "metadata": {},
     "output_type": "execute_result"
    }
   ],
   "source": [
    "df_prices.head()"
   ]
  },
  {
   "cell_type": "code",
   "execution_count": 41,
   "id": "5ea58111-b20e-4095-b4be-f0589d4bd3ef",
   "metadata": {
    "tags": []
   },
   "outputs": [
    {
     "data": {
      "text/html": [
       "<style>#sk-container-id-3 {color: black;}#sk-container-id-3 pre{padding: 0;}#sk-container-id-3 div.sk-toggleable {background-color: white;}#sk-container-id-3 label.sk-toggleable__label {cursor: pointer;display: block;width: 100%;margin-bottom: 0;padding: 0.3em;box-sizing: border-box;text-align: center;}#sk-container-id-3 label.sk-toggleable__label-arrow:before {content: \"▸\";float: left;margin-right: 0.25em;color: #696969;}#sk-container-id-3 label.sk-toggleable__label-arrow:hover:before {color: black;}#sk-container-id-3 div.sk-estimator:hover label.sk-toggleable__label-arrow:before {color: black;}#sk-container-id-3 div.sk-toggleable__content {max-height: 0;max-width: 0;overflow: hidden;text-align: left;background-color: #f0f8ff;}#sk-container-id-3 div.sk-toggleable__content pre {margin: 0.2em;color: black;border-radius: 0.25em;background-color: #f0f8ff;}#sk-container-id-3 input.sk-toggleable__control:checked~div.sk-toggleable__content {max-height: 200px;max-width: 100%;overflow: auto;}#sk-container-id-3 input.sk-toggleable__control:checked~label.sk-toggleable__label-arrow:before {content: \"▾\";}#sk-container-id-3 div.sk-estimator input.sk-toggleable__control:checked~label.sk-toggleable__label {background-color: #d4ebff;}#sk-container-id-3 div.sk-label input.sk-toggleable__control:checked~label.sk-toggleable__label {background-color: #d4ebff;}#sk-container-id-3 input.sk-hidden--visually {border: 0;clip: rect(1px 1px 1px 1px);clip: rect(1px, 1px, 1px, 1px);height: 1px;margin: -1px;overflow: hidden;padding: 0;position: absolute;width: 1px;}#sk-container-id-3 div.sk-estimator {font-family: monospace;background-color: #f0f8ff;border: 1px dotted black;border-radius: 0.25em;box-sizing: border-box;margin-bottom: 0.5em;}#sk-container-id-3 div.sk-estimator:hover {background-color: #d4ebff;}#sk-container-id-3 div.sk-parallel-item::after {content: \"\";width: 100%;border-bottom: 1px solid gray;flex-grow: 1;}#sk-container-id-3 div.sk-label:hover label.sk-toggleable__label {background-color: #d4ebff;}#sk-container-id-3 div.sk-serial::before {content: \"\";position: absolute;border-left: 1px solid gray;box-sizing: border-box;top: 0;bottom: 0;left: 50%;z-index: 0;}#sk-container-id-3 div.sk-serial {display: flex;flex-direction: column;align-items: center;background-color: white;padding-right: 0.2em;padding-left: 0.2em;position: relative;}#sk-container-id-3 div.sk-item {position: relative;z-index: 1;}#sk-container-id-3 div.sk-parallel {display: flex;align-items: stretch;justify-content: center;background-color: white;position: relative;}#sk-container-id-3 div.sk-item::before, #sk-container-id-3 div.sk-parallel-item::before {content: \"\";position: absolute;border-left: 1px solid gray;box-sizing: border-box;top: 0;bottom: 0;left: 50%;z-index: -1;}#sk-container-id-3 div.sk-parallel-item {display: flex;flex-direction: column;z-index: 1;position: relative;background-color: white;}#sk-container-id-3 div.sk-parallel-item:first-child::after {align-self: flex-end;width: 50%;}#sk-container-id-3 div.sk-parallel-item:last-child::after {align-self: flex-start;width: 50%;}#sk-container-id-3 div.sk-parallel-item:only-child::after {width: 0;}#sk-container-id-3 div.sk-dashed-wrapped {border: 1px dashed gray;margin: 0 0.4em 0.5em 0.4em;box-sizing: border-box;padding-bottom: 0.4em;background-color: white;}#sk-container-id-3 div.sk-label label {font-family: monospace;font-weight: bold;display: inline-block;line-height: 1.2em;}#sk-container-id-3 div.sk-label-container {text-align: center;}#sk-container-id-3 div.sk-container {/* jupyter's `normalize.less` sets `[hidden] { display: none; }` but bootstrap.min.css set `[hidden] { display: none !important; }` so we also need the `!important` here to be able to override the default hidden behavior on the sphinx rendered scikit-learn.org. See: https://github.com/scikit-learn/scikit-learn/issues/21755 */display: inline-block !important;position: relative;}#sk-container-id-3 div.sk-text-repr-fallback {display: none;}</style><div id=\"sk-container-id-3\" class=\"sk-top-container\"><div class=\"sk-text-repr-fallback\"><pre>LinearRegression()</pre><b>In a Jupyter environment, please rerun this cell to show the HTML representation or trust the notebook. <br />On GitHub, the HTML representation is unable to render, please try loading this page with nbviewer.org.</b></div><div class=\"sk-container\" hidden><div class=\"sk-item\"><div class=\"sk-estimator sk-toggleable\"><input class=\"sk-toggleable__control sk-hidden--visually\" id=\"sk-estimator-id-3\" type=\"checkbox\" checked><label for=\"sk-estimator-id-3\" class=\"sk-toggleable__label sk-toggleable__label-arrow\">LinearRegression</label><div class=\"sk-toggleable__content\"><pre>LinearRegression()</pre></div></div></div></div></div>"
      ],
      "text/plain": [
       "LinearRegression()"
      ]
     },
     "execution_count": 41,
     "metadata": {},
     "output_type": "execute_result"
    }
   ],
   "source": [
    "X = df_prices[features]\n",
    "y = df_prices[target]\n",
    "\n",
    "lm = LinearRegression()\n",
    "\n",
    "lm.fit(X, y)"
   ]
  },
  {
   "cell_type": "code",
   "execution_count": 42,
   "id": "ec0d17bd-c219-44bd-8862-5fb88079d732",
   "metadata": {
    "tags": []
   },
   "outputs": [
    {
     "data": {
      "text/plain": [
       "0.6515795964985773"
      ]
     },
     "execution_count": 42,
     "metadata": {},
     "output_type": "execute_result"
    }
   ],
   "source": [
    "# is this a good metric?\n",
    "lm.score(X, y)"
   ]
  },
  {
   "cell_type": "markdown",
   "id": "aca1f625-5918-47cb-96c8-47076ac81976",
   "metadata": {},
   "source": [
    "## Saving Model"
   ]
  },
  {
   "cell_type": "code",
   "execution_count": 29,
   "id": "ec9dccdb-b12c-400e-a4cd-c0d8efe8cec9",
   "metadata": {
    "tags": []
   },
   "outputs": [],
   "source": [
    "import pickle"
   ]
  },
  {
   "cell_type": "code",
   "execution_count": 31,
   "id": "10755ff0-0da7-46fb-bdd2-95ee53651fd4",
   "metadata": {
    "tags": []
   },
   "outputs": [],
   "source": [
    "# notice this is a bytes object \"wb\"\n",
    "with open(\"./model.pickle\", 'wb') as f:\n",
    "    pickle.dump(lm, f)"
   ]
  },
  {
   "cell_type": "markdown",
   "id": "a4287022-8c81-4942-8460-946f417d34d6",
   "metadata": {},
   "source": [
    "## Loading Model"
   ]
  },
  {
   "cell_type": "code",
   "execution_count": 32,
   "id": "3dacdce1-c9a9-4adc-b6bc-acd66e903530",
   "metadata": {
    "tags": []
   },
   "outputs": [],
   "source": [
    "# notice this is a bytes object \"wb\"\n",
    "with open(\"./model.pickle\", 'rb') as f:\n",
    "    lm_ = pickle.load(f)"
   ]
  },
  {
   "cell_type": "code",
   "execution_count": 34,
   "id": "817840f1-7c32-490d-a199-08d75d0908d3",
   "metadata": {
    "tags": []
   },
   "outputs": [
    {
     "data": {
      "text/plain": [
       "0.6379477265284501"
      ]
     },
     "execution_count": 34,
     "metadata": {},
     "output_type": "execute_result"
    }
   ],
   "source": [
    "lm_.score(X, y)"
   ]
  },
  {
   "cell_type": "markdown",
   "id": "573efd46-c526-4d3d-8ec2-ca3d96f4f73a",
   "metadata": {},
   "source": [
    "## Running on Streamlit\n",
    "\n",
    "Test with `streamlit run app.py`. Use the \"Deploy\" button to deploy to Streamlit Cloud."
   ]
  },
  {
   "cell_type": "code",
   "execution_count": null,
   "id": "c5d7f153-575b-4123-9aa7-7edb1a8b6d02",
   "metadata": {},
   "outputs": [],
   "source": []
  },
  {
   "cell_type": "code",
   "execution_count": null,
   "id": "a0c43f3c-24c7-4bc7-8ff7-3fad64947b90",
   "metadata": {},
   "outputs": [],
   "source": []
  },
  {
   "cell_type": "code",
   "execution_count": null,
   "id": "5d18fcb3-81d4-4a11-924e-d750090596b8",
   "metadata": {},
   "outputs": [],
   "source": []
  }
 ],
 "metadata": {
  "kernelspec": {
   "display_name": "simple-streamlit (pip)",
   "language": "python",
   "name": "simple-streamlit"
  },
  "language_info": {
   "codemirror_mode": {
    "name": "ipython",
    "version": 3
   },
   "file_extension": ".py",
   "mimetype": "text/x-python",
   "name": "python",
   "nbconvert_exporter": "python",
   "pygments_lexer": "ipython3",
   "version": "3.10.13"
  }
 },
 "nbformat": 4,
 "nbformat_minor": 5
}
